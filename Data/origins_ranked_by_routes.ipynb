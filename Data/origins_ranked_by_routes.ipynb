{
 "cells": [
  {
   "cell_type": "code",
   "execution_count": 3,
   "metadata": {},
   "outputs": [],
   "source": [
    "import pandas as pd\n",
    "import matplotlib\n",
    "import matplotlib.pyplot as plt\n",
    "%matplotlib inline\n",
    "import seaborn as sns\n",
    "import simplejson"
   ]
  },
  {
   "cell_type": "code",
   "execution_count": 5,
   "metadata": {},
   "outputs": [
    {
     "data": {
      "text/html": [
       "<div>\n",
       "<style scoped>\n",
       "    .dataframe tbody tr th:only-of-type {\n",
       "        vertical-align: middle;\n",
       "    }\n",
       "\n",
       "    .dataframe tbody tr th {\n",
       "        vertical-align: top;\n",
       "    }\n",
       "\n",
       "    .dataframe thead th {\n",
       "        text-align: right;\n",
       "    }\n",
       "</style>\n",
       "<table border=\"1\" class=\"dataframe\">\n",
       "  <thead>\n",
       "    <tr style=\"text-align: right;\">\n",
       "      <th></th>\n",
       "      <th>airline_code</th>\n",
       "      <th>airline_ID</th>\n",
       "      <th>src_port_code</th>\n",
       "      <th>src_port_id</th>\n",
       "      <th>dest_port_code</th>\n",
       "      <th>dest_port_id</th>\n",
       "      <th>code_share</th>\n",
       "      <th>stops</th>\n",
       "      <th>equipment</th>\n",
       "    </tr>\n",
       "  </thead>\n",
       "  <tbody>\n",
       "    <tr>\n",
       "      <th>0</th>\n",
       "      <td>2B</td>\n",
       "      <td>410</td>\n",
       "      <td>AER</td>\n",
       "      <td>2965</td>\n",
       "      <td>KZN</td>\n",
       "      <td>2990</td>\n",
       "      <td>NaN</td>\n",
       "      <td>0</td>\n",
       "      <td>CR2</td>\n",
       "    </tr>\n",
       "    <tr>\n",
       "      <th>1</th>\n",
       "      <td>2B</td>\n",
       "      <td>410</td>\n",
       "      <td>ASF</td>\n",
       "      <td>2966</td>\n",
       "      <td>KZN</td>\n",
       "      <td>2990</td>\n",
       "      <td>NaN</td>\n",
       "      <td>0</td>\n",
       "      <td>CR2</td>\n",
       "    </tr>\n",
       "    <tr>\n",
       "      <th>2</th>\n",
       "      <td>2B</td>\n",
       "      <td>410</td>\n",
       "      <td>ASF</td>\n",
       "      <td>2966</td>\n",
       "      <td>MRV</td>\n",
       "      <td>2962</td>\n",
       "      <td>NaN</td>\n",
       "      <td>0</td>\n",
       "      <td>CR2</td>\n",
       "    </tr>\n",
       "    <tr>\n",
       "      <th>3</th>\n",
       "      <td>2B</td>\n",
       "      <td>410</td>\n",
       "      <td>CEK</td>\n",
       "      <td>2968</td>\n",
       "      <td>KZN</td>\n",
       "      <td>2990</td>\n",
       "      <td>NaN</td>\n",
       "      <td>0</td>\n",
       "      <td>CR2</td>\n",
       "    </tr>\n",
       "    <tr>\n",
       "      <th>4</th>\n",
       "      <td>2B</td>\n",
       "      <td>410</td>\n",
       "      <td>CEK</td>\n",
       "      <td>2968</td>\n",
       "      <td>OVB</td>\n",
       "      <td>4078</td>\n",
       "      <td>NaN</td>\n",
       "      <td>0</td>\n",
       "      <td>CR2</td>\n",
       "    </tr>\n",
       "  </tbody>\n",
       "</table>\n",
       "</div>"
      ],
      "text/plain": [
       "  airline_code airline_ID src_port_code src_port_id dest_port_code  \\\n",
       "0           2B        410           AER        2965            KZN   \n",
       "1           2B        410           ASF        2966            KZN   \n",
       "2           2B        410           ASF        2966            MRV   \n",
       "3           2B        410           CEK        2968            KZN   \n",
       "4           2B        410           CEK        2968            OVB   \n",
       "\n",
       "  dest_port_id code_share  stops equipment  \n",
       "0         2990        NaN      0       CR2  \n",
       "1         2990        NaN      0       CR2  \n",
       "2         2962        NaN      0       CR2  \n",
       "3         2990        NaN      0       CR2  \n",
       "4         4078        NaN      0       CR2  "
      ]
     },
     "execution_count": 5,
     "metadata": {},
     "output_type": "execute_result"
    }
   ],
   "source": [
    "routesData = pd.read_csv(\"routes.csv\", names = [\"airline_code\",\"airline_ID\", \"src_port_code\", \"src_port_id\",\n",
    "                                  \"dest_port_code\",\"dest_port_id\", \"code_share\", \"stops\", \"equipment\"])\n",
    "routesData.head()"
   ]
  },
  {
   "cell_type": "code",
   "execution_count": 6,
   "metadata": {},
   "outputs": [
    {
     "data": {
      "text/plain": [
       "(67663, 9)"
      ]
     },
     "execution_count": 6,
     "metadata": {},
     "output_type": "execute_result"
    }
   ],
   "source": [
    "routesData.shape"
   ]
  },
  {
   "cell_type": "code",
   "execution_count": 7,
   "metadata": {},
   "outputs": [],
   "source": [
    "route_cnt = routesData['src_port_code'].value_counts()"
   ]
  },
  {
   "cell_type": "code",
   "execution_count": 9,
   "metadata": {},
   "outputs": [
    {
     "data": {
      "text/plain": [
       "Text(0.5, 0, 'Source airport code')"
      ]
     },
     "execution_count": 9,
     "metadata": {},
     "output_type": "execute_result"
    },
    {
     "data": {
      "image/png": "[encoded data removed]",
      "text/plain": [
       "<Figure size 576x288 with 1 Axes>"
      ]
     },
     "metadata": {
      "needs_background": "light"
     },
     "output_type": "display_data"
    }
   ],
   "source": [
    "plt.figure(figsize=(8,4))\n",
    "ax= sns.barplot(route_cnt.index, route_cnt.values, alpha=0.8)\n",
    "plt.title(\"Route Count Distribution\")\n",
    "plt.ylabel('# of routes', fontsize=12)\n",
    "plt.xlabel('Source airport code', fontsize=12)"
   ]
  },
  {
   "cell_type": "code",
   "execution_count": 10,
   "metadata": {},
   "outputs": [
    {
     "data": {
      "text/plain": [
       "ATL    915\n",
       "ORD    558\n",
       "PEK    535\n",
       "LHR    527\n",
       "CDG    524\n",
       "FRA    497\n",
       "LAX    492\n",
       "DFW    469\n",
       "JFK    456\n",
       "AMS    453\n",
       "PVG    411\n",
       "SIN    408\n",
       "BCN    391\n",
       "ICN    370\n",
       "MUC    368\n",
       "MIA    368\n",
       "DEN    361\n",
       "IST    358\n",
       "DXB    356\n",
       "LGW    356\n",
       "HKG    355\n",
       "CAN    338\n",
       "FCO    331\n",
       "MAD    330\n",
       "BKK    326\n",
       "DME    324\n",
       "CTU    324\n",
       "YYZ    319\n",
       "MAN    316\n",
       "BRU    316\n",
       "      ... \n",
       "GRP      1\n",
       "KME      1\n",
       "GMZ      1\n",
       "TTJ      1\n",
       "UTT      1\n",
       "CGM      1\n",
       "BCI      1\n",
       "YES      1\n",
       "NAJ      1\n",
       "PLN      1\n",
       "ADK      1\n",
       "FVM      1\n",
       "AFZ      1\n",
       "NTQ      1\n",
       "OAL      1\n",
       "EAT      1\n",
       "KKE      1\n",
       "ACZ      1\n",
       "MTS      1\n",
       "TEE      1\n",
       "RDD      1\n",
       "YZR      1\n",
       "FUT      1\n",
       "QFN      1\n",
       "ATD      1\n",
       "KBC      1\n",
       "LKG      1\n",
       "PDT      1\n",
       "WSN      1\n",
       "AFL      1\n",
       "Name: src_port_code, Length: 3409, dtype: int64"
      ]
     },
     "execution_count": 10,
     "metadata": {},
     "output_type": "execute_result"
    }
   ],
   "source": [
    "route_cnt"
   ]
  },
  {
   "cell_type": "code",
   "execution_count": 10,
   "metadata": {},
   "outputs": [
    {
     "data": {
      "text/html": [
       "<div>\n",
       "<style scoped>\n",
       "    .dataframe tbody tr th:only-of-type {\n",
       "        vertical-align: middle;\n",
       "    }\n",
       "\n",
       "    .dataframe tbody tr th {\n",
       "        vertical-align: top;\n",
       "    }\n",
       "\n",
       "    .dataframe thead th {\n",
       "        text-align: right;\n",
       "    }\n",
       "</style>\n",
       "<table border=\"1\" class=\"dataframe\">\n",
       "  <thead>\n",
       "    <tr style=\"text-align: right;\">\n",
       "      <th></th>\n",
       "      <th>src_port_code</th>\n",
       "      <th>count</th>\n",
       "    </tr>\n",
       "  </thead>\n",
       "  <tbody>\n",
       "    <tr>\n",
       "      <th>0</th>\n",
       "      <td>ATL</td>\n",
       "      <td>915</td>\n",
       "    </tr>\n",
       "    <tr>\n",
       "      <th>1</th>\n",
       "      <td>ORD</td>\n",
       "      <td>558</td>\n",
       "    </tr>\n",
       "    <tr>\n",
       "      <th>2</th>\n",
       "      <td>PEK</td>\n",
       "      <td>535</td>\n",
       "    </tr>\n",
       "    <tr>\n",
       "      <th>3</th>\n",
       "      <td>LHR</td>\n",
       "      <td>527</td>\n",
       "    </tr>\n",
       "    <tr>\n",
       "      <th>4</th>\n",
       "      <td>CDG</td>\n",
       "      <td>524</td>\n",
       "    </tr>\n",
       "  </tbody>\n",
       "</table>\n",
       "</div>"
      ],
      "text/plain": [
       "  src_port_code  count\n",
       "0           ATL    915\n",
       "1           ORD    558\n",
       "2           PEK    535\n",
       "3           LHR    527\n",
       "4           CDG    524"
      ]
     },
     "execution_count": 10,
     "metadata": {},
     "output_type": "execute_result"
    }
   ],
   "source": [
    "toproutes = routesData.groupby(by='src_port_code', as_index=False, level=None, sort=True)['stops'].count()\n",
    "toproutes = toproutes.rename(columns={'stops':'count'})\n",
    "toproutes = toproutes.sort_values(by='count', ascending=False)[:250]\n",
    "toproutes = toproutes.reset_index(drop=True)\n",
    "toproutes.head()"
   ]
  },
  {
   "cell_type": "code",
   "execution_count": 14,
   "metadata": {},
   "outputs": [],
   "source": [
    "toproutesi = 250\n",
    "routes = []\n",
    "for i, val in enumerate(list(toproutes['src_port_code'])):\n",
    "    routes.append({\"label\":val,\n",
    "                     \"id\":i})\n",
    "f = open('toproutes.json', 'w')\n",
    "simplejson.dump(routes, f)\n",
    "f.close()"
   ]
  },
  {
   "cell_type": "code",
   "execution_count": 12,
   "metadata": {},
   "outputs": [
    {
     "data": {
      "text/plain": [
       "24"
      ]
     },
     "execution_count": 12,
     "metadata": {},
     "output_type": "execute_result"
    }
   ],
   "source": [
    "int(route_cnt.index[1])"
   ]
  }
 ],
 "metadata": {
  "kernelspec": {
   "display_name": "Python 3",
   "language": "python",
   "name": "python3"
  },
  "language_info": {
   "codemirror_mode": {
    "name": "ipython",
    "version": 3
   },
   "file_extension": ".py",
   "mimetype": "text/x-python",
   "name": "python",
   "nbconvert_exporter": "python",
   "pygments_lexer": "ipython3",
   "version": "3.6.7"
  }
 },
 "nbformat": 4,
 "nbformat_minor": 2
}
