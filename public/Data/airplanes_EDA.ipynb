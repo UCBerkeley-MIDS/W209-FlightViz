{
 "cells": [
  {
   "cell_type": "code",
   "execution_count": 1,
   "metadata": {},
   "outputs": [
    {
     "name": "stderr",
     "output_type": "stream",
     "text": [
      "/Users/guangyu/Documents/pyvenvs/mids3.6.7/lib/python3.6/site-packages/matplotlib/__init__.py:886: MatplotlibDeprecationWarning: \n",
      "examples.directory is deprecated; in the future, examples will be found relative to the 'datapath' directory.\n",
      "  \"found relative to the 'datapath' directory.\".format(key))\n"
     ]
    }
   ],
   "source": [
    "import pandas as pd\n",
    "import matplotlib\n",
    "import matplotlib.pyplot as plt\n",
    "%matplotlib inline\n",
    "import seaborn as sns\n",
    "import simplejson\n",
    "import scipy\n",
    "import numpy as np"
   ]
  },
  {
   "cell_type": "code",
   "execution_count": 2,
   "metadata": {},
   "outputs": [
    {
     "data": {
      "text/html": [
       "<div>\n",
       "<style scoped>\n",
       "    .dataframe tbody tr th:only-of-type {\n",
       "        vertical-align: middle;\n",
       "    }\n",
       "\n",
       "    .dataframe tbody tr th {\n",
       "        vertical-align: top;\n",
       "    }\n",
       "\n",
       "    .dataframe thead th {\n",
       "        text-align: right;\n",
       "    }\n",
       "</style>\n",
       "<table border=\"1\" class=\"dataframe\">\n",
       "  <thead>\n",
       "    <tr style=\"text-align: right;\">\n",
       "      <th></th>\n",
       "      <th>airline_code</th>\n",
       "      <th>airline_ID</th>\n",
       "      <th>src_port_code</th>\n",
       "      <th>src_port_id</th>\n",
       "      <th>dest_port_code</th>\n",
       "      <th>dest_port_id</th>\n",
       "      <th>code_share</th>\n",
       "      <th>stops</th>\n",
       "      <th>equipment</th>\n",
       "    </tr>\n",
       "  </thead>\n",
       "  <tbody>\n",
       "    <tr>\n",
       "      <th>0</th>\n",
       "      <td>2B</td>\n",
       "      <td>410</td>\n",
       "      <td>AER</td>\n",
       "      <td>2965</td>\n",
       "      <td>KZN</td>\n",
       "      <td>2990</td>\n",
       "      <td>NaN</td>\n",
       "      <td>0</td>\n",
       "      <td>CR2</td>\n",
       "    </tr>\n",
       "    <tr>\n",
       "      <th>1</th>\n",
       "      <td>2B</td>\n",
       "      <td>410</td>\n",
       "      <td>ASF</td>\n",
       "      <td>2966</td>\n",
       "      <td>KZN</td>\n",
       "      <td>2990</td>\n",
       "      <td>NaN</td>\n",
       "      <td>0</td>\n",
       "      <td>CR2</td>\n",
       "    </tr>\n",
       "    <tr>\n",
       "      <th>2</th>\n",
       "      <td>2B</td>\n",
       "      <td>410</td>\n",
       "      <td>ASF</td>\n",
       "      <td>2966</td>\n",
       "      <td>MRV</td>\n",
       "      <td>2962</td>\n",
       "      <td>NaN</td>\n",
       "      <td>0</td>\n",
       "      <td>CR2</td>\n",
       "    </tr>\n",
       "    <tr>\n",
       "      <th>3</th>\n",
       "      <td>2B</td>\n",
       "      <td>410</td>\n",
       "      <td>CEK</td>\n",
       "      <td>2968</td>\n",
       "      <td>KZN</td>\n",
       "      <td>2990</td>\n",
       "      <td>NaN</td>\n",
       "      <td>0</td>\n",
       "      <td>CR2</td>\n",
       "    </tr>\n",
       "    <tr>\n",
       "      <th>4</th>\n",
       "      <td>2B</td>\n",
       "      <td>410</td>\n",
       "      <td>CEK</td>\n",
       "      <td>2968</td>\n",
       "      <td>OVB</td>\n",
       "      <td>4078</td>\n",
       "      <td>NaN</td>\n",
       "      <td>0</td>\n",
       "      <td>CR2</td>\n",
       "    </tr>\n",
       "  </tbody>\n",
       "</table>\n",
       "</div>"
      ],
      "text/plain": [
       "  airline_code airline_ID src_port_code src_port_id dest_port_code  \\\n",
       "0           2B        410           AER        2965            KZN   \n",
       "1           2B        410           ASF        2966            KZN   \n",
       "2           2B        410           ASF        2966            MRV   \n",
       "3           2B        410           CEK        2968            KZN   \n",
       "4           2B        410           CEK        2968            OVB   \n",
       "\n",
       "  dest_port_id code_share  stops equipment  \n",
       "0         2990        NaN      0       CR2  \n",
       "1         2990        NaN      0       CR2  \n",
       "2         2962        NaN      0       CR2  \n",
       "3         2990        NaN      0       CR2  \n",
       "4         4078        NaN      0       CR2  "
      ]
     },
     "execution_count": 2,
     "metadata": {},
     "output_type": "execute_result"
    }
   ],
   "source": [
    "routesData = pd.read_csv(\"routes.csv\", names = [\"airline_code\",\"airline_ID\", \"src_port_code\", \"src_port_id\",\n",
    "                                  \"dest_port_code\",\"dest_port_id\", \"code_share\", \"stops\", \"equipment\"])\n",
    "routesData.head()"
   ]
  },
  {
   "cell_type": "code",
   "execution_count": 3,
   "metadata": {},
   "outputs": [
    {
     "data": {
      "text/plain": [
       "(67663, 9)"
      ]
     },
     "execution_count": 3,
     "metadata": {},
     "output_type": "execute_result"
    }
   ],
   "source": [
    "routesData.shape"
   ]
  },
  {
   "cell_type": "code",
   "execution_count": 4,
   "metadata": {},
   "outputs": [
    {
     "data": {
      "text/html": [
       "<div>\n",
       "<style scoped>\n",
       "    .dataframe tbody tr th:only-of-type {\n",
       "        vertical-align: middle;\n",
       "    }\n",
       "\n",
       "    .dataframe tbody tr th {\n",
       "        vertical-align: top;\n",
       "    }\n",
       "\n",
       "    .dataframe thead th {\n",
       "        text-align: right;\n",
       "    }\n",
       "</style>\n",
       "<table border=\"1\" class=\"dataframe\">\n",
       "  <thead>\n",
       "    <tr style=\"text-align: right;\">\n",
       "      <th></th>\n",
       "      <th>airline_ID</th>\n",
       "      <th>airline_name</th>\n",
       "      <th>alias</th>\n",
       "      <th>iata</th>\n",
       "      <th>airline_code</th>\n",
       "      <th>call_sign</th>\n",
       "      <th>country</th>\n",
       "      <th>active</th>\n",
       "    </tr>\n",
       "  </thead>\n",
       "  <tbody>\n",
       "    <tr>\n",
       "      <th>0</th>\n",
       "      <td>-1</td>\n",
       "      <td>Unknown</td>\n",
       "      <td>\\N</td>\n",
       "      <td>-</td>\n",
       "      <td>NaN</td>\n",
       "      <td>\\N</td>\n",
       "      <td>\\N</td>\n",
       "      <td>Y</td>\n",
       "    </tr>\n",
       "    <tr>\n",
       "      <th>1</th>\n",
       "      <td>1</td>\n",
       "      <td>Private flight</td>\n",
       "      <td>\\N</td>\n",
       "      <td>-</td>\n",
       "      <td>NaN</td>\n",
       "      <td>NaN</td>\n",
       "      <td>NaN</td>\n",
       "      <td>Y</td>\n",
       "    </tr>\n",
       "    <tr>\n",
       "      <th>2</th>\n",
       "      <td>2</td>\n",
       "      <td>135 Airways</td>\n",
       "      <td>\\N</td>\n",
       "      <td>NaN</td>\n",
       "      <td>GNL</td>\n",
       "      <td>GENERAL</td>\n",
       "      <td>United States</td>\n",
       "      <td>N</td>\n",
       "    </tr>\n",
       "    <tr>\n",
       "      <th>3</th>\n",
       "      <td>3</td>\n",
       "      <td>1Time Airline</td>\n",
       "      <td>\\N</td>\n",
       "      <td>1T</td>\n",
       "      <td>RNX</td>\n",
       "      <td>NEXTIME</td>\n",
       "      <td>South Africa</td>\n",
       "      <td>Y</td>\n",
       "    </tr>\n",
       "    <tr>\n",
       "      <th>4</th>\n",
       "      <td>4</td>\n",
       "      <td>2 Sqn No 1 Elementary Flying Training School</td>\n",
       "      <td>\\N</td>\n",
       "      <td>NaN</td>\n",
       "      <td>WYT</td>\n",
       "      <td>NaN</td>\n",
       "      <td>United Kingdom</td>\n",
       "      <td>N</td>\n",
       "    </tr>\n",
       "    <tr>\n",
       "      <th>5</th>\n",
       "      <td>5</td>\n",
       "      <td>213 Flight Unit</td>\n",
       "      <td>\\N</td>\n",
       "      <td>NaN</td>\n",
       "      <td>TFU</td>\n",
       "      <td>NaN</td>\n",
       "      <td>Russia</td>\n",
       "      <td>N</td>\n",
       "    </tr>\n",
       "    <tr>\n",
       "      <th>6</th>\n",
       "      <td>6</td>\n",
       "      <td>223 Flight Unit State Airline</td>\n",
       "      <td>\\N</td>\n",
       "      <td>NaN</td>\n",
       "      <td>CHD</td>\n",
       "      <td>CHKALOVSK-AVIA</td>\n",
       "      <td>Russia</td>\n",
       "      <td>N</td>\n",
       "    </tr>\n",
       "    <tr>\n",
       "      <th>7</th>\n",
       "      <td>7</td>\n",
       "      <td>224th Flight Unit</td>\n",
       "      <td>\\N</td>\n",
       "      <td>NaN</td>\n",
       "      <td>TTF</td>\n",
       "      <td>CARGO UNIT</td>\n",
       "      <td>Russia</td>\n",
       "      <td>N</td>\n",
       "    </tr>\n",
       "    <tr>\n",
       "      <th>8</th>\n",
       "      <td>8</td>\n",
       "      <td>247 Jet Ltd</td>\n",
       "      <td>\\N</td>\n",
       "      <td>NaN</td>\n",
       "      <td>TWF</td>\n",
       "      <td>CLOUD RUNNER</td>\n",
       "      <td>United Kingdom</td>\n",
       "      <td>N</td>\n",
       "    </tr>\n",
       "    <tr>\n",
       "      <th>9</th>\n",
       "      <td>9</td>\n",
       "      <td>3D Aviation</td>\n",
       "      <td>\\N</td>\n",
       "      <td>NaN</td>\n",
       "      <td>SEC</td>\n",
       "      <td>SECUREX</td>\n",
       "      <td>United States</td>\n",
       "      <td>N</td>\n",
       "    </tr>\n",
       "  </tbody>\n",
       "</table>\n",
       "</div>"
      ],
      "text/plain": [
       "   airline_ID                                  airline_name alias iata  \\\n",
       "0          -1                                       Unknown    \\N    -   \n",
       "1           1                                Private flight    \\N    -   \n",
       "2           2                                   135 Airways    \\N  NaN   \n",
       "3           3                                 1Time Airline    \\N   1T   \n",
       "4           4  2 Sqn No 1 Elementary Flying Training School    \\N  NaN   \n",
       "5           5                               213 Flight Unit    \\N  NaN   \n",
       "6           6                 223 Flight Unit State Airline    \\N  NaN   \n",
       "7           7                             224th Flight Unit    \\N  NaN   \n",
       "8           8                                   247 Jet Ltd    \\N  NaN   \n",
       "9           9                                   3D Aviation    \\N  NaN   \n",
       "\n",
       "  airline_code       call_sign         country active  \n",
       "0          NaN              \\N              \\N      Y  \n",
       "1          NaN             NaN             NaN      Y  \n",
       "2          GNL         GENERAL   United States      N  \n",
       "3          RNX         NEXTIME    South Africa      Y  \n",
       "4          WYT             NaN  United Kingdom      N  \n",
       "5          TFU             NaN          Russia      N  \n",
       "6          CHD  CHKALOVSK-AVIA          Russia      N  \n",
       "7          TTF      CARGO UNIT          Russia      N  \n",
       "8          TWF    CLOUD RUNNER  United Kingdom      N  \n",
       "9          SEC         SECUREX   United States      N  "
      ]
     },
     "execution_count": 4,
     "metadata": {},
     "output_type": "execute_result"
    }
   ],
   "source": [
    "airlineData = pd.read_csv(\"airlines.csv\", names = [\"airline_ID\",\"airline_name\",\"alias\",\"iata\",\"airline_code\",\n",
    "                                                   \"call_sign\",\"country\",\"active\"])\n",
    "airlineData.head(10)"
   ]
  },
  {
   "cell_type": "code",
   "execution_count": 5,
   "metadata": {},
   "outputs": [
    {
     "data": {
      "text/plain": [
       "(6162, 8)"
      ]
     },
     "execution_count": 5,
     "metadata": {},
     "output_type": "execute_result"
    }
   ],
   "source": [
    "airlineData.shape"
   ]
  },
  {
   "cell_type": "code",
   "execution_count": 6,
   "metadata": {},
   "outputs": [
    {
     "data": {
      "text/html": [
       "<div>\n",
       "<style scoped>\n",
       "    .dataframe tbody tr th:only-of-type {\n",
       "        vertical-align: middle;\n",
       "    }\n",
       "\n",
       "    .dataframe tbody tr th {\n",
       "        vertical-align: top;\n",
       "    }\n",
       "\n",
       "    .dataframe thead th {\n",
       "        text-align: right;\n",
       "    }\n",
       "</style>\n",
       "<table border=\"1\" class=\"dataframe\">\n",
       "  <thead>\n",
       "    <tr style=\"text-align: right;\">\n",
       "      <th></th>\n",
       "      <th>aircraft_name</th>\n",
       "      <th>iata_name</th>\n",
       "      <th>icao_name</th>\n",
       "    </tr>\n",
       "  </thead>\n",
       "  <tbody>\n",
       "    <tr>\n",
       "      <th>0</th>\n",
       "      <td>Aerospatiale (Sud Aviation) Se.210 Caravelle</td>\n",
       "      <td>CRV</td>\n",
       "      <td>S210</td>\n",
       "    </tr>\n",
       "    <tr>\n",
       "      <th>1</th>\n",
       "      <td>Aerospatiale/Alenia ATR 42-300</td>\n",
       "      <td>AT4</td>\n",
       "      <td>AT43</td>\n",
       "    </tr>\n",
       "    <tr>\n",
       "      <th>2</th>\n",
       "      <td>Aerospatiale/Alenia ATR 42-500</td>\n",
       "      <td>AT5</td>\n",
       "      <td>AT45</td>\n",
       "    </tr>\n",
       "    <tr>\n",
       "      <th>3</th>\n",
       "      <td>Aerospatiale/Alenia ATR 42-600</td>\n",
       "      <td>ATR</td>\n",
       "      <td>AT46</td>\n",
       "    </tr>\n",
       "    <tr>\n",
       "      <th>4</th>\n",
       "      <td>Aerospatiale/Alenia ATR 72</td>\n",
       "      <td>AT7</td>\n",
       "      <td>AT72</td>\n",
       "    </tr>\n",
       "    <tr>\n",
       "      <th>5</th>\n",
       "      <td>Airbus A300</td>\n",
       "      <td>AB3</td>\n",
       "      <td>A30B</td>\n",
       "    </tr>\n",
       "    <tr>\n",
       "      <th>6</th>\n",
       "      <td>Airbus A300-600</td>\n",
       "      <td>ABY</td>\n",
       "      <td>A306</td>\n",
       "    </tr>\n",
       "    <tr>\n",
       "      <th>7</th>\n",
       "      <td>Airbus A310</td>\n",
       "      <td>310</td>\n",
       "      <td>A310</td>\n",
       "    </tr>\n",
       "    <tr>\n",
       "      <th>8</th>\n",
       "      <td>Airbus A318</td>\n",
       "      <td>318</td>\n",
       "      <td>A318</td>\n",
       "    </tr>\n",
       "    <tr>\n",
       "      <th>9</th>\n",
       "      <td>Airbus A319</td>\n",
       "      <td>319</td>\n",
       "      <td>A319</td>\n",
       "    </tr>\n",
       "  </tbody>\n",
       "</table>\n",
       "</div>"
      ],
      "text/plain": [
       "                                  aircraft_name iata_name icao_name\n",
       "0  Aerospatiale (Sud Aviation) Se.210 Caravelle       CRV      S210\n",
       "1                Aerospatiale/Alenia ATR 42-300       AT4      AT43\n",
       "2                Aerospatiale/Alenia ATR 42-500       AT5      AT45\n",
       "3                Aerospatiale/Alenia ATR 42-600       ATR      AT46\n",
       "4                    Aerospatiale/Alenia ATR 72       AT7      AT72\n",
       "5                                   Airbus A300       AB3      A30B\n",
       "6                               Airbus A300-600       ABY      A306\n",
       "7                                   Airbus A310       310      A310\n",
       "8                                   Airbus A318       318      A318\n",
       "9                                   Airbus A319       319      A319"
      ]
     },
     "execution_count": 6,
     "metadata": {},
     "output_type": "execute_result"
    }
   ],
   "source": [
    "planes =  pd.read_csv(\"planes.csv\", names = [\"aircraft_name\",\"iata_name\", \"icao_name\"])\n",
    "planes.head(10)"
   ]
  },
  {
   "cell_type": "code",
   "execution_count": 7,
   "metadata": {},
   "outputs": [
    {
     "data": {
      "text/plain": [
       "(174, 3)"
      ]
     },
     "execution_count": 7,
     "metadata": {},
     "output_type": "execute_result"
    }
   ],
   "source": [
    "planes.shape"
   ]
  },
  {
   "cell_type": "code",
   "execution_count": 8,
   "metadata": {},
   "outputs": [],
   "source": [
    "route_cnt = routesData['equipment'].value_counts()"
   ]
  },
  {
   "cell_type": "code",
   "execution_count": 9,
   "metadata": {},
   "outputs": [
    {
     "data": {
      "text/plain": [
       "DescribeResult(nobs=3945, minmax=(1, 9180), mean=17.14702154626109, variance=43531.03010332229, skewness=33.48923069663396, kurtosis=1306.7793948868318)"
      ]
     },
     "execution_count": 9,
     "metadata": {},
     "output_type": "execute_result"
    }
   ],
   "source": [
    "scipy.stats.describe(route_cnt)"
   ]
  },
  {
   "cell_type": "code",
   "execution_count": 10,
   "metadata": {},
   "outputs": [
    {
     "data": {
      "text/plain": [
       "(3945,)"
      ]
     },
     "execution_count": 10,
     "metadata": {},
     "output_type": "execute_result"
    }
   ],
   "source": [
    "route_cnt.shape"
   ]
  },
  {
   "cell_type": "code",
   "execution_count": 11,
   "metadata": {},
   "outputs": [
    {
     "data": {
      "text/plain": [
       "320            9180\n",
       "738            7124\n",
       "319            3420\n",
       "737            2211\n",
       "73H            2043\n",
       "CRJ            1238\n",
       "AT7            1194\n",
       "73W            1155\n",
       "321            1146\n",
       "E90            1049\n",
       "320 319         914\n",
       "319 320         909\n",
       "333             886\n",
       "DH4             866\n",
       "332             756\n",
       "763             692\n",
       "777             617\n",
       "DH8             610\n",
       "73G             571\n",
       "733             560\n",
       "330             525\n",
       "ATR             512\n",
       "ERJ             509\n",
       "77W             502\n",
       "SF3             438\n",
       "CR7             424\n",
       "757             420\n",
       "ER4             396\n",
       "320 321         377\n",
       "321 320         366\n",
       "               ... \n",
       "738 737          58\n",
       "321 320 319      58\n",
       "BNI              58\n",
       "ERJ CRJ          57\n",
       "333 332          57\n",
       "DH2              57\n",
       "AB6              56\n",
       "CR7 CRJ          55\n",
       "340              55\n",
       "CR9 CRJ          54\n",
       "ER3              53\n",
       "321 738          52\n",
       "787              52\n",
       "738 739          51\n",
       "CRJ CR7          51\n",
       "M83 M80          50\n",
       "757 738          50\n",
       "CR7 CR9          50\n",
       "E90 320          50\n",
       "321 319 320      50\n",
       "73W 738          48\n",
       "738 757          48\n",
       "738 321          47\n",
       "319 CRJ          47\n",
       "CRJ CR9          47\n",
       "AR1              46\n",
       "F70              46\n",
       "73J              46\n",
       "73W 733          45\n",
       "J31              45\n",
       "Name: equipment, Length: 135, dtype: int64"
      ]
     },
     "execution_count": 11,
     "metadata": {},
     "output_type": "execute_result"
    }
   ],
   "source": [
    "route_cnt[:135,]"
   ]
  },
  {
   "cell_type": "code",
   "execution_count": 12,
   "metadata": {},
   "outputs": [
    {
     "data": {
      "text/plain": [
       "Text(0.5, 0, 'Aircraft')"
      ]
     },
     "execution_count": 12,
     "metadata": {},
     "output_type": "execute_result"
    },
    {
     "data": {
      "image/png": "[encoded data removed]",
      "text/plain": [
       "<Figure size 576x288 with 1 Axes>"
      ]
     },
     "metadata": {
      "needs_background": "light"
     },
     "output_type": "display_data"
    }
   ],
   "source": [
    "plt.figure(figsize=(8,4))\n",
    "ax= sns.barplot(route_cnt.index[:135], route_cnt.values[:135], alpha=0.8)\n",
    "plt.title(\"Route Count Distribution\")\n",
    "plt.ylabel('# of routes', fontsize=12)\n",
    "plt.xlabel('Aircraft', fontsize=12)"
   ]
  },
  {
   "cell_type": "code",
   "execution_count": 13,
   "metadata": {},
   "outputs": [
    {
     "data": {
      "text/plain": [
       "320            0.135708\n",
       "738            0.105315\n",
       "319            0.050558\n",
       "737            0.032685\n",
       "73H            0.030202\n",
       "CRJ            0.018301\n",
       "AT7            0.017651\n",
       "73W            0.017074\n",
       "321            0.016941\n",
       "E90            0.015507\n",
       "320 319        0.013512\n",
       "319 320        0.013438\n",
       "333            0.013098\n",
       "DH4            0.012802\n",
       "332            0.011176\n",
       "763            0.010230\n",
       "777            0.009121\n",
       "DH8            0.009018\n",
       "73G            0.008441\n",
       "733            0.008279\n",
       "330            0.007761\n",
       "ATR            0.007569\n",
       "ERJ            0.007525\n",
       "77W            0.007421\n",
       "SF3            0.006475\n",
       "CR7            0.006268\n",
       "757            0.006209\n",
       "ER4            0.005854\n",
       "320 321        0.005573\n",
       "321 320        0.005411\n",
       "                 ...   \n",
       "738 737        0.000857\n",
       "321 320 319    0.000857\n",
       "BNI            0.000857\n",
       "ERJ CRJ        0.000843\n",
       "333 332        0.000843\n",
       "DH2            0.000843\n",
       "AB6            0.000828\n",
       "CR7 CRJ        0.000813\n",
       "340            0.000813\n",
       "CR9 CRJ        0.000798\n",
       "ER3            0.000784\n",
       "321 738        0.000769\n",
       "787            0.000769\n",
       "738 739        0.000754\n",
       "CRJ CR7        0.000754\n",
       "M83 M80        0.000739\n",
       "757 738        0.000739\n",
       "CR7 CR9        0.000739\n",
       "E90 320        0.000739\n",
       "321 319 320    0.000739\n",
       "73W 738        0.000710\n",
       "738 757        0.000710\n",
       "738 321        0.000695\n",
       "319 CRJ        0.000695\n",
       "CRJ CR9        0.000695\n",
       "AR1            0.000680\n",
       "F70            0.000680\n",
       "73J            0.000680\n",
       "73W 733        0.000665\n",
       "J31            0.000665\n",
       "Name: equipment, Length: 135, dtype: float64"
      ]
     },
     "execution_count": 13,
     "metadata": {},
     "output_type": "execute_result"
    }
   ],
   "source": [
    "route_cnt[:135]/sum(route_cnt)"
   ]
  },
  {
   "cell_type": "code",
   "execution_count": 14,
   "metadata": {},
   "outputs": [],
   "source": [
    "def label_aircraft (row):\n",
    "    if (pd.isnull(row['equipment'])):\n",
    "        return \"None\"\n",
    "    elif row['equipment'][:2] == '73' or row['equipment'][:2] == '7M' :\n",
    "        return 'Boeing single aisle'\n",
    "    elif row['equipment'][:2] == '31' or row['equipment'][:2] == '32':\n",
    "        return 'Airbus single aisle'\n",
    "    elif row['equipment'][:2] == '74' or row['equipment'][:2] == '75' or row['equipment'][:2] == '76' or row['equipment'][:2] == '77' or row['equipment'][:2] == '78':\n",
    "        return 'Boeing twin aisle'\n",
    "    elif row['equipment'][:2] == '33' or row['equipment'][:2] == '34' or row['equipment'][:2] == '35' or row['equipment'][:2] == '38':\n",
    "        return 'Airbus twin aisle'\n",
    "    elif row['equipment'][:2] == 'AT':\n",
    "        return 'Aerospatiale Regional Jet'\n",
    "    elif row['equipment'][:1] == 'E':\n",
    "        return 'Embraer Regional Jet'\n",
    "    elif row['equipment'][:2] == 'CR':\n",
    "        return 'Canadair Regional Jet'\n",
    "    elif row['equipment'][:2] == 'DH':\n",
    "        return 'De Havilland Canada Regional Jet'\n",
    "    elif row['equipment'][:2] in [\"M1\", \"M8\", \"M9\", \"D1\", \"D3\", \"D6\", \"D9\"]:\n",
    "        return 'McDonnell Douglas (merged with Boeing)'\n",
    "    else:\n",
    "        return 'Other'"
   ]
  },
  {
   "cell_type": "code",
   "execution_count": 15,
   "metadata": {},
   "outputs": [],
   "source": [
    "routesData['aircraft_type'] = routesData.apply (lambda row: label_aircraft (row), axis=1)"
   ]
  },
  {
   "cell_type": "code",
   "execution_count": 16,
   "metadata": {},
   "outputs": [],
   "source": [
    "aircraft_type_cnt = routesData['aircraft_type'].value_counts()"
   ]
  },
  {
   "cell_type": "code",
   "execution_count": 17,
   "metadata": {},
   "outputs": [
    {
     "data": {
      "text/plain": [
       "DescribeResult(nobs=11, minmax=(18, 20045), mean=6151.181818181818, variance=45717785.96363636, skewness=1.4499440897959612, kurtosis=0.45269420277627237)"
      ]
     },
     "execution_count": 17,
     "metadata": {},
     "output_type": "execute_result"
    }
   ],
   "source": [
    "scipy.stats.describe(aircraft_type_cnt)"
   ]
  },
  {
   "cell_type": "code",
   "execution_count": 18,
   "metadata": {},
   "outputs": [
    {
     "data": {
      "text/plain": [
       "Airbus single aisle                       20045\n",
       "Boeing single aisle                       18857\n",
       "Boeing twin aisle                          5862\n",
       "Embraer Regional Jet                       4645\n",
       "Other                                      4263\n",
       "Airbus twin aisle                          3621\n",
       "Canadair Regional Jet                      3440\n",
       "De Havilland Canada Regional Jet           2929\n",
       "Aerospatiale Regional Jet                  2454\n",
       "McDonnell Douglas (merged with Boeing)     1529\n",
       "None                                         18\n",
       "Name: aircraft_type, dtype: int64"
      ]
     },
     "execution_count": 18,
     "metadata": {},
     "output_type": "execute_result"
    }
   ],
   "source": [
    "aircraft_type_cnt"
   ]
  },
  {
   "cell_type": "code",
   "execution_count": 19,
   "metadata": {},
   "outputs": [
    {
     "data": {
      "text/plain": [
       "Text(0, 0.5, 'Aircraft type')"
      ]
     },
     "execution_count": 19,
     "metadata": {},
     "output_type": "execute_result"
    },
    {
     "data": {
      "image/png": "[encoded data removed]",
      "text/plain": [
       "<Figure size 576x288 with 1 Axes>"
      ]
     },
     "metadata": {
      "needs_background": "light"
     },
     "output_type": "display_data"
    }
   ],
   "source": [
    "plt.figure(figsize=(8,4))\n",
    "ax= sns.barplot( aircraft_type_cnt.values, aircraft_type_cnt.index, alpha=0.8)\n",
    "plt.title(\"Aircraft Distribution\")\n",
    "plt.xlabel('# of routes', fontsize=12)\n",
    "plt.ylabel('Aircraft type', fontsize=12)"
   ]
  },
  {
   "cell_type": "code",
   "execution_count": 20,
   "metadata": {},
   "outputs": [
    {
     "data": {
      "text/plain": [
       "2484"
      ]
     },
     "execution_count": 20,
     "metadata": {},
     "output_type": "execute_result"
    }
   ],
   "source": [
    "np.max(routesData.groupby(['airline_ID','aircraft_type']).count()['airline_code'])"
   ]
  },
  {
   "cell_type": "code",
   "execution_count": 21,
   "metadata": {},
   "outputs": [
    {
     "data": {
      "text/plain": [
       "DescribeResult(nobs=1348, minmax=(1, 2484), mean=50.195103857566764, variance=13158.310087368567, skewness=9.728343030215212, kurtosis=164.3644913853144)"
      ]
     },
     "execution_count": 21,
     "metadata": {},
     "output_type": "execute_result"
    }
   ],
   "source": [
    "scipy.stats.describe(routesData.groupby(['airline_ID','aircraft_type']).count()['airline_code'])"
   ]
  },
  {
   "cell_type": "code",
   "execution_count": 22,
   "metadata": {},
   "outputs": [
    {
     "name": "stderr",
     "output_type": "stream",
     "text": [
      "/Users/guangyu/Documents/pyvenvs/mids3.6.7/lib/python3.6/site-packages/numpy/core/fromnumeric.py:51: FutureWarning: 'argmax' is deprecated, use 'idxmax' instead. The behavior of 'argmax'\n",
      "will be corrected to return the positional maximum in the future.\n",
      "Use 'series.values.argmax' to get the position of the maximum now.\n",
      "  return getattr(obj, method)(*args, **kwds)\n"
     ]
    },
    {
     "data": {
      "text/plain": [
       "('4296', 'Boeing single aisle')"
      ]
     },
     "execution_count": 22,
     "metadata": {},
     "output_type": "execute_result"
    }
   ],
   "source": [
    "np.argmax(routesData.groupby(['airline_ID','aircraft_type']).count()['airline_code'])"
   ]
  },
  {
   "cell_type": "code",
   "execution_count": 23,
   "metadata": {},
   "outputs": [
    {
     "data": {
      "text/plain": [
       "airline_ID  aircraft_type                         \n",
       "4296        Boeing single aisle                       2484\n",
       "2297        Airbus single aisle                       1130\n",
       "4547        Boeing single aisle                       1107\n",
       "1767        Airbus single aisle                        655\n",
       "1758        Airbus single aisle                        652\n",
       "1767        Boeing single aisle                        650\n",
       "1316        Boeing single aisle                        634\n",
       "751         Boeing single aisle                        602\n",
       "2009        Canadair Regional Jet                      581\n",
       "3737        Boeing single aisle                        550\n",
       "5209        Embraer Regional Jet                       523\n",
       "2822        Airbus single aisle                        521\n",
       "1758        Boeing single aisle                        487\n",
       "2660        Boeing single aisle                        464\n",
       "5461        Airbus single aisle                        463\n",
       "751         Airbus single aisle                        457\n",
       "5265        Embraer Regional Jet                       441\n",
       "24          Airbus single aisle                        435\n",
       "            Boeing single aisle                        421\n",
       "            Embraer Regional Jet                       419\n",
       "4611        Boeing single aisle                        417\n",
       "5209        Boeing single aisle                        411\n",
       "24          Boeing twin aisle                          394\n",
       "2439        Airbus single aisle                        384\n",
       "5484        Boeing single aisle                        383\n",
       "4611        Airbus single aisle                        383\n",
       "4608        Airbus single aisle                        374\n",
       "5265        Airbus single aisle                        372\n",
       "214         Airbus single aisle                        369\n",
       "5265        Canadair Regional Jet                      364\n",
       "                                                      ... \n",
       "1680        Canadair Regional Jet                        1\n",
       "3320        McDonnell Douglas (merged with Boeing)       1\n",
       "5484        Airbus twin aisle                            1\n",
       "5496        Boeing single aisle                          1\n",
       "4513        Airbus twin aisle                            1\n",
       "1889        Boeing twin aisle                            1\n",
       "4867        Boeing single aisle                          1\n",
       "2660        Other                                        1\n",
       "4547        None                                         1\n",
       "2421        Airbus single aisle                          1\n",
       "28          Canadair Regional Jet                        1\n",
       "            Embraer Regional Jet                         1\n",
       "1316        McDonnell Douglas (merged with Boeing)       1\n",
       "28          None                                         1\n",
       "439         Embraer Regional Jet                         1\n",
       "2260        Canadair Regional Jet                        1\n",
       "225         Other                                        1\n",
       "2987        McDonnell Douglas (merged with Boeing)       1\n",
       "324         Embraer Regional Jet                         1\n",
       "1422        Airbus twin aisle                            1\n",
       "751         Aerospatiale Regional Jet                    1\n",
       "491         McDonnell Douglas (merged with Boeing)       1\n",
       "2638        Boeing twin aisle                            1\n",
       "3126        Other                                        1\n",
       "4091        None                                         1\n",
       "116         McDonnell Douglas (merged with Boeing)       1\n",
       "            Boeing single aisle                          1\n",
       "16120       Boeing single aisle                          1\n",
       "3210        Other                                        1\n",
       "837         Embraer Regional Jet                         1\n",
       "Name: airline_code, Length: 1348, dtype: int64"
      ]
     },
     "execution_count": 23,
     "metadata": {},
     "output_type": "execute_result"
    }
   ],
   "source": [
    "routesData.groupby(['airline_ID','aircraft_type']).count()['airline_code'].sort_values(ascending=False)"
   ]
  },
  {
   "cell_type": "code",
   "execution_count": 24,
   "metadata": {},
   "outputs": [
    {
     "data": {
      "text/html": [
       "<div>\n",
       "<style scoped>\n",
       "    .dataframe tbody tr th:only-of-type {\n",
       "        vertical-align: middle;\n",
       "    }\n",
       "\n",
       "    .dataframe tbody tr th {\n",
       "        vertical-align: top;\n",
       "    }\n",
       "\n",
       "    .dataframe thead th {\n",
       "        text-align: right;\n",
       "    }\n",
       "</style>\n",
       "<table border=\"1\" class=\"dataframe\">\n",
       "  <thead>\n",
       "    <tr style=\"text-align: right;\">\n",
       "      <th></th>\n",
       "      <th>airline_ID</th>\n",
       "      <th>airline_name</th>\n",
       "      <th>alias</th>\n",
       "      <th>iata</th>\n",
       "      <th>airline_code</th>\n",
       "      <th>call_sign</th>\n",
       "      <th>country</th>\n",
       "      <th>active</th>\n",
       "    </tr>\n",
       "  </thead>\n",
       "  <tbody>\n",
       "    <tr>\n",
       "      <th>4290</th>\n",
       "      <td>4296</td>\n",
       "      <td>Ryanair</td>\n",
       "      <td>\\N</td>\n",
       "      <td>FR</td>\n",
       "      <td>RYR</td>\n",
       "      <td>RYANAIR</td>\n",
       "      <td>Ireland</td>\n",
       "      <td>Y</td>\n",
       "    </tr>\n",
       "  </tbody>\n",
       "</table>\n",
       "</div>"
      ],
      "text/plain": [
       "      airline_ID airline_name alias iata airline_code call_sign  country  \\\n",
       "4290        4296      Ryanair    \\N   FR          RYR   RYANAIR  Ireland   \n",
       "\n",
       "     active  \n",
       "4290      Y  "
      ]
     },
     "execution_count": 24,
     "metadata": {},
     "output_type": "execute_result"
    }
   ],
   "source": [
    "airlineData[airlineData['airline_ID'] == 4296]"
   ]
  },
  {
   "cell_type": "code",
   "execution_count": 25,
   "metadata": {},
   "outputs": [
    {
     "data": {
      "text/html": [
       "<div>\n",
       "<style scoped>\n",
       "    .dataframe tbody tr th:only-of-type {\n",
       "        vertical-align: middle;\n",
       "    }\n",
       "\n",
       "    .dataframe tbody tr th {\n",
       "        vertical-align: top;\n",
       "    }\n",
       "\n",
       "    .dataframe thead th {\n",
       "        text-align: right;\n",
       "    }\n",
       "</style>\n",
       "<table border=\"1\" class=\"dataframe\">\n",
       "  <thead>\n",
       "    <tr style=\"text-align: right;\">\n",
       "      <th></th>\n",
       "      <th>airline_ID</th>\n",
       "      <th>airline_name</th>\n",
       "      <th>alias</th>\n",
       "      <th>iata</th>\n",
       "      <th>airline_code</th>\n",
       "      <th>call_sign</th>\n",
       "      <th>country</th>\n",
       "      <th>active</th>\n",
       "    </tr>\n",
       "  </thead>\n",
       "  <tbody>\n",
       "    <tr>\n",
       "      <th>2296</th>\n",
       "      <td>2297</td>\n",
       "      <td>easyJet</td>\n",
       "      <td>EasyJet Airline</td>\n",
       "      <td>U2</td>\n",
       "      <td>EZY</td>\n",
       "      <td>EASY</td>\n",
       "      <td>United Kingdom</td>\n",
       "      <td>Y</td>\n",
       "    </tr>\n",
       "  </tbody>\n",
       "</table>\n",
       "</div>"
      ],
      "text/plain": [
       "      airline_ID airline_name            alias iata airline_code call_sign  \\\n",
       "2296        2297      easyJet  EasyJet Airline   U2          EZY      EASY   \n",
       "\n",
       "             country active  \n",
       "2296  United Kingdom      Y  "
      ]
     },
     "execution_count": 25,
     "metadata": {},
     "output_type": "execute_result"
    }
   ],
   "source": [
    "airlineData[airlineData['airline_ID'] == 2297]"
   ]
  },
  {
   "cell_type": "code",
   "execution_count": 26,
   "metadata": {},
   "outputs": [
    {
     "data": {
      "text/plain": [
       "<matplotlib.axes._subplots.AxesSubplot at 0x1092b3eb8>"
      ]
     },
     "execution_count": 26,
     "metadata": {},
     "output_type": "execute_result"
    },
    {
     "data": {
      "image/png": "[encoded data removed]",
      "text/plain": [
       "<Figure size 432x288 with 1 Axes>"
      ]
     },
     "metadata": {
      "needs_background": "light"
     },
     "output_type": "display_data"
    }
   ],
   "source": [
    "routesData.groupby(['airline_ID','aircraft_type']).count()['airline_code'].hist(bins=50)"
   ]
  },
  {
   "cell_type": "code",
   "execution_count": null,
   "metadata": {},
   "outputs": [],
   "source": []
  }
 ],
 "metadata": {
  "kernelspec": {
   "display_name": "Python 3",
   "language": "python",
   "name": "python3"
  },
  "language_info": {
   "codemirror_mode": {
    "name": "ipython",
    "version": 3
   },
   "file_extension": ".py",
   "mimetype": "text/x-python",
   "name": "python",
   "nbconvert_exporter": "python",
   "pygments_lexer": "ipython3",
   "version": "3.6.7"
  }
 },
 "nbformat": 4,
 "nbformat_minor": 2
}
